{
  "nbformat": 4,
  "nbformat_minor": 0,
  "metadata": {
    "colab": {
      "provenance": [],
      "authorship_tag": "ABX9TyNJlLHio9bo4fiIscxeoOvo",
      "include_colab_link": true
    },
    "kernelspec": {
      "name": "python3",
      "display_name": "Python 3"
    },
    "language_info": {
      "name": "python"
    }
  },
  "cells": [
    {
      "cell_type": "markdown",
      "metadata": {
        "id": "view-in-github",
        "colab_type": "text"
      },
      "source": [
        "<a href=\"https://colab.research.google.com/github/docmhvr/CaliforNiche/blob/main/Project_Blueprint.ipynb\" target=\"_parent\"><img src=\"https://colab.research.google.com/assets/colab-badge.svg\" alt=\"Open In Colab\"/></a>"
      ]
    },
    {
      "cell_type": "markdown",
      "source": [
        "# Project Blueprint"
      ],
      "metadata": {
        "id": "kvX1w9BBWvlf"
      }
    },
    {
      "cell_type": "code",
      "execution_count": null,
      "metadata": {
        "colab": {
          "base_uri": "https://localhost:8080/"
        },
        "id": "VHKdLoKTUBLW",
        "outputId": "4bfec571-fdf2-42ba-a7bb-ce4777eafa44"
      },
      "outputs": [
        {
          "output_type": "stream",
          "name": "stdout",
          "text": [
            "The Zen of Python, by Tim Peters\n",
            "\n",
            "Beautiful is better than ugly.\n",
            "Explicit is better than implicit.\n",
            "Simple is better than complex.\n",
            "Complex is better than complicated.\n",
            "Flat is better than nested.\n",
            "Sparse is better than dense.\n",
            "Readability counts.\n",
            "Special cases aren't special enough to break the rules.\n",
            "Although practicality beats purity.\n",
            "Errors should never pass silently.\n",
            "Unless explicitly silenced.\n",
            "In the face of ambiguity, refuse the temptation to guess.\n",
            "There should be one-- and preferably only one --obvious way to do it.\n",
            "Although that way may not be obvious at first unless you're Dutch.\n",
            "Now is better than never.\n",
            "Although never is often better than *right* now.\n",
            "If the implementation is hard to explain, it's a bad idea.\n",
            "If the implementation is easy to explain, it may be a good idea.\n",
            "Namespaces are one honking great idea -- let's do more of those!\n"
          ]
        }
      ],
      "source": [
        "import this"
      ]
    },
    {
      "cell_type": "markdown",
      "source": [
        "CaliforNiche: Airbnb or motels or temporary accomodation recommendation based on real-time weather, news, traffic and accomodation availability data.\n",
        "\n",
        "Also based on the data suggest best places to live in California based on following factors: Crime, Weather/Pollution, Costs, Travel spots, Local stores and restaurants, etc.\n",
        "\n",
        "Tech stack: Blog and Code (Github)\n",
        "\n",
        "Batch ETL Pipeline\n",
        "* Data Sources: RAW data sources\n",
        "* Destination: DuckDB Data Warehouse\n",
        "* Scheduler and Orchestrator: Apache Airflow\n",
        "* Storage: Minio (Open Source S3 Storage)\n",
        "* Data processor: Python and DuckDB\n",
        "* Vizualisation: Quarto, Tableau (Post Analysis)\n",
        "* Testing: Pytest\n",
        "* CI/CD: Github Actions\n",
        "* IAC: Terraform\n",
        "* Linting and formating: black, isort, mypy, and flake8"
      ],
      "metadata": {
        "id": "Nwy40_W4X_Sl"
      }
    },
    {
      "cell_type": "code",
      "source": [],
      "metadata": {
        "id": "8orcAOIWUiMy"
      },
      "execution_count": null,
      "outputs": []
    }
  ]
}